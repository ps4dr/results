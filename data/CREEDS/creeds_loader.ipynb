{
 "cells": [
  {
   "cell_type": "code",
   "execution_count": 87,
   "metadata": {},
   "outputs": [],
   "source": [
    "GENE_PERTURBATIONS_DATA_URL = 'http://amp.pharm.mssm.edu/CREEDS/download/single_gene_perturbations-v1.0.json'\n",
    "DISEASES_DATA_URL = 'http://amp.pharm.mssm.edu/CREEDS/download/disease_signatures-v1.0.json'\n",
    "DRUG_PERTURBATIONS_DATA_URL = 'http://amp.pharm.mssm.edu/CREEDS/download/single_drug_perturbations-v1.0.json'"
   ]
  },
  {
   "cell_type": "code",
   "execution_count": 175,
   "metadata": {},
   "outputs": [],
   "source": [
    "from tqdm.notebook import tqdm\n",
    "import json, requests, os.path\n",
    "\n",
    "\n",
    "if not os.path.isfile(\"gene_data.json\"):\n",
    "    response = requests.get(GENE_PERTURBATIONS_DATA_URL, stream=True)\n",
    "    with open(\"gene_data.json\", \"wb\") as handle:\n",
    "        for data in tqdm(response.iter_content()):\n",
    "            handle.write(data)\n",
    "            \n",
    "if not os.path.isfile(\"disease_data.json\"):\n",
    "    response = requests.get(DISEASES_DATA_URL, stream=True)\n",
    "    with open(\"disease_data.json\", \"wb\") as handle:\n",
    "        for data in tqdm(response.iter_content()):\n",
    "            handle.write(data)\n",
    "            \n",
    "if not os.path.isfile(\"drug_data.json\"):\n",
    "    response = requests.get(DRUG_PERTURBATIONS_DATA_URL, stream=True)\n",
    "    with open(\"drug_data.json\", \"wb\") as handle:\n",
    "        for data in tqdm(response.iter_content()):\n",
    "            handle.write(data)\n",
    "\n",
    "        \n",
    "gene_data = json.load(open(\"gene_data.json\", \"r\"))\n",
    "disease_data = json.load(open(\"disease_data.json\", \"r\"))\n",
    "drug_data = json.load(open(\"drug_data.json\", \"r\"))"
   ]
  },
  {
   "cell_type": "code",
   "execution_count": 157,
   "metadata": {},
   "outputs": [],
   "source": [
    "def get_data(value, ids, data):\n",
    "    result = pd.DataFrame(columns=['Disease/Drug', 'Regulation', 'Gene_Name', 'Fold_Change'])\n",
    "    valid_experiments = [experiment for experiment in data if experiment['id'] in ids]\n",
    "    for experiment in valid_experiments:\n",
    "        temp = []\n",
    "        for gene, fc_value in experiment['down_genes']:\n",
    "            temp.append([value, 'down', gene, fc_value])\n",
    "        for gene, fc_value in experiment['up_genes']:\n",
    "            temp.append([value, 'up', gene, fc_value])\n",
    "        result = result.append(temp)\n",
    "    return result"
   ]
  },
  {
   "cell_type": "code",
   "execution_count": 171,
   "metadata": {},
   "outputs": [],
   "source": [
    "def get_creed_results():\n",
    "    flag = True\n",
    "    while(flag):\n",
    "        CREEDS_URL = 'http://amp.pharm.mssm.edu/CREEDS/'\n",
    "\n",
    "        input_var = str(input('Enter the name of the disease/drug you are searching for. \\n'))\n",
    "\n",
    "        response = requests.get(CREEDS_URL + 'search', params={'q': input_var})\n",
    "        if response.status_code == 200:\n",
    "            response_data = response.json()\n",
    "            ids = [experiment['id'] for experiment in response.json()]\n",
    "\n",
    "        for data, suffix in zip([gene_data, disease_data, drug_data], ['gene_data', 'disease_data', 'drug_data']):\n",
    "            result = get_data(value=input_var, ids=ids, data=data)\n",
    "            if result.empty == True:\n",
    "                continue\n",
    "            result.to_csv(\n",
    "                f'{input_var.lower().replace(\" \", \"_\")}_{suffix}.tsv', \n",
    "                sep='\\t'\n",
    "            )\n",
    "        flag = str(input('Do you want to stop?'))"
   ]
  },
  {
   "cell_type": "code",
   "execution_count": 174,
   "metadata": {},
   "outputs": [
    {
     "name": "stdout",
     "output_type": "stream",
     "text": [
      "Enter the name of the disease/drug you are searching for. \n",
      "Pimozide\n",
      "Do you want to stop?n\n",
      "Enter the name of the disease/drug you are searching for. \n",
      "Pimozide\n",
      "Do you want to stop?\n"
     ]
    }
   ],
   "source": [
    "get_creed_results()"
   ]
  }
 ],
 "metadata": {
  "kernelspec": {
   "display_name": "Python 3",
   "language": "python",
   "name": "python3"
  },
  "language_info": {
   "codemirror_mode": {
    "name": "ipython",
    "version": 3
   },
   "file_extension": ".py",
   "mimetype": "text/x-python",
   "name": "python",
   "nbconvert_exporter": "python",
   "pygments_lexer": "ipython3",
   "version": "3.7.4"
  }
 },
 "nbformat": 4,
 "nbformat_minor": 2
}
